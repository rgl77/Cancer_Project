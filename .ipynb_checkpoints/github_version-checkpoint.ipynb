{
 "cells": [
  {
   "cell_type": "code",
   "execution_count": 1,
   "metadata": {},
   "outputs": [],
   "source": [
    "import csv\n",
    "import networkx as nx\n",
    "import numpy as np\n",
    "import matplotlib\n",
    "import matplotlib.pylab as plt\n",
    "from threading import Thread\n",
    "import math\n",
    "from random import sample\n",
    "import statistics as st\n",
    "import json\n",
    "import random"
   ]
  },
  {
   "cell_type": "code",
   "execution_count": 4,
   "metadata": {},
   "outputs": [],
   "source": [
    "def reader(filename):\n",
    "    master = []\n",
    "    with open(filename, mode= 'r') as csv_file:\n",
    "        csv_reader = csv.reader(csv_file, delimiter = \",\")\n",
    "        for row in csv_reader:\n",
    "            if(row[0] != ''):\n",
    "                master.append(row)\n",
    "    return master    "
   ]
  },
  {
   "cell_type": "code",
   "execution_count": 5,
   "metadata": {},
   "outputs": [],
   "source": [
    "def dict_maker(data):\n",
    "    master = {}\n",
    "    firstline = data[0]\n",
    "    first = True\n",
    "    for row in data[1:]:\n",
    "        if int(row[0] not in master.keys()):\n",
    "            master[int(row[0])] = {}\n",
    "            for column in firstline:\n",
    "                try:\n",
    "                    master[int(row[0])][column] = float(row[firstline.index(column)])\n",
    "                except:\n",
    "                    master[int(row[0])][column] = row[firstline.index(column)]    \n",
    "    return master"
   ]
  },
  {
   "cell_type": "code",
   "execution_count": null,
   "metadata": {},
   "outputs": [],
   "source": [
    "def quick_run():\n",
    "    cancer_att = {}\n",
    "    healthy_att = {}\n",
    "    cancer_fail = set()\n",
    "    healthy_fail = set()\n",
    "    for i in cancer_dict.keys():\n",
    "        for attribute in cancer_dict[i].keys():\n",
    "            if(attribute != 'int_id'):\n",
    "                try:\n",
    "                    if attribute not in cancer_att.keys():\n",
    "                        cancer_att[attribute] = float(cancer_dict[i][attribute])\n",
    "                    else:\n",
    "                        cancer_att[attribute]+= float(cancer_dict[i][attribute])\n",
    "                except:\n",
    "                    cancer_fail.add(attribute)\n",
    "                    pass     \n",
    "    for i in healthy_dict.keys():\n",
    "        for attribute in healthy_dict[i].keys():\n",
    "            if(attribute != 'int_id'):\n",
    "                try:\n",
    "                    if(math.isnan(float(healthy_dict[i][attribute])) == False):\n",
    "                        if attribute not in healthy_att.keys():\n",
    "                            healthy_att[attribute] = float(healthy_dict[i][attribute])\n",
    "                        else:\n",
    "                            healthy_att[attribute] += float(healthy_dict[i][attribute])\n",
    "                    else:\n",
    "                        healthy_fail.add(attribute)\n",
    "\n",
    "                except:\n",
    "                    healthy_fail.add(attribute)\n",
    "                    pass\n",
    "    plt.bar(list(cancer_att.keys()),list(cancer_att.values()))\n",
    "    plt.xticks(rotation = 'vertical')\n",
    "    plt.show()\n",
    "    plt.bar(list(healthy_att.keys()), list(healthy_att.values()))\n",
    "    plt.xticks(rotation = 'vertical')\n",
    "    plt.show()    "
   ]
  }
 ],
 "metadata": {
  "kernelspec": {
   "display_name": "Python 3",
   "language": "python",
   "name": "python3"
  },
  "language_info": {
   "codemirror_mode": {
    "name": "ipython",
    "version": 3
   },
   "file_extension": ".py",
   "mimetype": "text/x-python",
   "name": "python",
   "nbconvert_exporter": "python",
   "pygments_lexer": "ipython3",
   "version": "3.7.6"
  }
 },
 "nbformat": 4,
 "nbformat_minor": 4
}
